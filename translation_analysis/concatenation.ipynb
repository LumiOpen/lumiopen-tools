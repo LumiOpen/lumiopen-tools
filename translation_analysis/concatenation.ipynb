{
 "cells": [
  {
   "cell_type": "code",
   "execution_count": 2,
   "id": "1a154a0a-28f8-447f-b349-f081e6eec6e7",
   "metadata": {},
   "outputs": [],
   "source": [
    "from datasets import load_dataset"
   ]
  },
  {
   "cell_type": "code",
   "execution_count": 3,
   "id": "f7206f54-7477-41a1-a688-805c146dfe13",
   "metadata": {},
   "outputs": [],
   "source": [
    "ds = load_dataset(\"Helsinki-NLP/europarl\", \"en-fi\", split=\"train\")\n",
    "ds"
   ]
  },
  {
   "cell_type": "code",
   "execution_count": 12,
   "id": "f9b5b804-fb94-41b4-8434-804568f1306e",
   "metadata": {},
   "outputs": [
    {
     "name": "stdout",
     "output_type": "stream",
     "text": [
      "Istuntokauden uudelleenavaaminen Julistan perjantaina joulukuun 17. päivänä keskeytetyn Euroopan parlamentin istunnon avatuksi ja esitän vielä kerran vilpittömän toiveeni siitä, että teillä olisi ollut oikein mukava joululoma. Kuten olette varmaan saattaneet huomata, vuodenvaihteeseen 2000 povattuja suuria tietokoneongelmia ei ilmennytkään. Sen sijaan todella kauheat luonnonkatastrofit koettelivat kansalaisia joissakin unionimme maissa. Te olette esittäneet toiveen, että tästä asiasta keskusteltaisiin lähipäivinä tämän istuntojakson aikana. Sillä välin toivoisin, kuten useampi kollega on minulle esittänytkin, että viettäisimme minuutin hiljaisuuden kaikkien niiden uhrien muistoksi, jotka saivat surmansa useita Euroopan unionin maita koetelleissa myrskyissä. Kehotan, että nousette seisomaan tämän minuutin hiljaisuuden ajaksi (Parlamentti vietti seisaallaan minuutin hiljaisuuden.) Arvoisa puhemies, käytän työjärjestyspuheenvuoron. Olette varmaan saaneet tietoonne lehdistön ja television kautta, että Sri Lankassa on sattunut useita kuolemaan johtaneita pommi-iskuja. Näiden Sri Lankassa aivan äskettäin surmansa saaneiden ihmisten joukossa on Kumar Ponnambalam, joka vieraili parlamentissa vain pari kuukautta sitten. "
     ]
    }
   ],
   "source": [
    "for i in range(0, 10):\n",
    "    print(ds[i][\"translation\"][\"fi\"], end=\" \")"
   ]
  },
  {
   "cell_type": "code",
   "execution_count": null,
   "id": "d48344e8-9af6-40d3-8114-76879e7fa588",
   "metadata": {},
   "outputs": [],
   "source": []
  }
 ],
 "metadata": {
  "kernelspec": {
   "display_name": "Python 3 (ipykernel)",
   "language": "python",
   "name": "python3"
  },
  "language_info": {
   "codemirror_mode": {
    "name": "ipython",
    "version": 3
   },
   "file_extension": ".py",
   "mimetype": "text/x-python",
   "name": "python",
   "nbconvert_exporter": "python",
   "pygments_lexer": "ipython3",
   "version": "3.10.9"
  }
 },
 "nbformat": 4,
 "nbformat_minor": 5
}
