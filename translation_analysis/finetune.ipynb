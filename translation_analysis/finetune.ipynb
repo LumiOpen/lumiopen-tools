{
 "cells": [
  {
   "cell_type": "code",
   "execution_count": 35,
   "id": "bc485efa-69d8-41f9-8d08-698bdd468ce3",
   "metadata": {},
   "outputs": [],
   "source": [
    "from datasets import load_from_disk, load_dataset\n",
    "from transformers import (\n",
    "    AutoTokenizer,\n",
    "    AutoModelForCausalLM,\n",
    "    DataCollatorForLanguageModeling,\n",
    "    TrainingArguments,\n",
    "    Trainer,\n",
    ")"
   ]
  },
  {
   "cell_type": "code",
   "execution_count": 30,
   "id": "0fdaffc3-0eb0-4ea7-99da-c92cab3c1102",
   "metadata": {},
   "outputs": [
    {
     "name": "stdout",
     "output_type": "stream",
     "text": [
      "Dataset({\n",
      "    features: ['translation'],\n",
      "    num_rows: 1575699\n",
      "})\n",
      "Dataset({\n",
      "    features: ['translation'],\n",
      "    num_rows: 393925\n",
      "})\n"
     ]
    }
   ],
   "source": [
    "ds_train = load_dataset(\"Helsinki-NLP/europarl\", \"en-fi\", split=\"train[:80%]\")\n",
    "ds_test = load_dataset(\"Helsinki-NLP/europarl\", \"en-fi\", split=\"train[80%:]\")"
   ]
  },
  {
   "cell_type": "code",
   "execution_count": 37,
   "id": "9753e553-2926-4d88-8720-197e0cf325cf",
   "metadata": {},
   "outputs": [
    {
     "data": {
      "text/plain": [
       "[78, 367, 393, 6652, 1065, 896, 4006, 920, 683]"
      ]
     },
     "execution_count": 37,
     "metadata": {},
     "output_type": "execute_result"
    }
   ],
   "source": [
    "tokenizer = AutoTokenizer.from_pretrained(\"LumiOpen/Poro-34B\")\n"
   ]
  },
  {
   "cell_type": "code",
   "execution_count": null,
   "id": "ddcacc61-9119-47cb-b0f1-a280d404abdd",
   "metadata": {},
   "outputs": [],
   "source": []
  }
 ],
 "metadata": {
  "kernelspec": {
   "display_name": "Python 3 (ipykernel)",
   "language": "python",
   "name": "python3"
  },
  "language_info": {
   "codemirror_mode": {
    "name": "ipython",
    "version": 3
   },
   "file_extension": ".py",
   "mimetype": "text/x-python",
   "name": "python",
   "nbconvert_exporter": "python",
   "pygments_lexer": "ipython3",
   "version": "3.10.9"
  }
 },
 "nbformat": 4,
 "nbformat_minor": 5
}
